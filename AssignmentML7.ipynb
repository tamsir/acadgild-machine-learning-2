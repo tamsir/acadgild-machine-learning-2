{
 "cells": [
  {
   "cell_type": "markdown",
   "metadata": {},
   "source": [
    "# MACHINE LEARNING 7 to 11"
   ]
  },
  {
   "cell_type": "markdown",
   "metadata": {},
   "source": [
    "## 2.1. Problem Statement: Machine Learning 7"
   ]
  },
  {
   "cell_type": "code",
   "execution_count": 5,
   "metadata": {},
   "outputs": [],
   "source": [
    "import pandas as pd\n",
    "import matplotlib.pyplot as plt\n",
    "from sklearn.neighbors import KNeighborsClassifier, KNeighborsRegressor\n",
    "import numpy as np\n",
    "\n",
    "from sklearn.model_selection import train_test_split\n",
    "from sklearn.preprocessing import StandardScaler\n",
    "from sklearn.metrics import r2_score, mean_absolute_error, mean_squared_error"
   ]
  },
  {
   "cell_type": "code",
   "execution_count": 12,
   "metadata": {},
   "outputs": [
    {
     "data": {
      "text/html": [
       "<div>\n",
       "<style scoped>\n",
       "    .dataframe tbody tr th:only-of-type {\n",
       "        vertical-align: middle;\n",
       "    }\n",
       "\n",
       "    .dataframe tbody tr th {\n",
       "        vertical-align: top;\n",
       "    }\n",
       "\n",
       "    .dataframe thead th {\n",
       "        text-align: right;\n",
       "    }\n",
       "</style>\n",
       "<table border=\"1\" class=\"dataframe\">\n",
       "  <thead>\n",
       "    <tr style=\"text-align: right;\">\n",
       "      <th></th>\n",
       "      <th>player</th>\n",
       "      <th>pos</th>\n",
       "      <th>age</th>\n",
       "      <th>bref_team_id</th>\n",
       "      <th>g</th>\n",
       "      <th>gs</th>\n",
       "      <th>mp</th>\n",
       "      <th>fg</th>\n",
       "      <th>fga</th>\n",
       "      <th>fg.</th>\n",
       "      <th>...</th>\n",
       "      <th>drb</th>\n",
       "      <th>trb</th>\n",
       "      <th>ast</th>\n",
       "      <th>stl</th>\n",
       "      <th>blk</th>\n",
       "      <th>tov</th>\n",
       "      <th>pf</th>\n",
       "      <th>pts</th>\n",
       "      <th>season</th>\n",
       "      <th>season_end</th>\n",
       "    </tr>\n",
       "  </thead>\n",
       "  <tbody>\n",
       "    <tr>\n",
       "      <th>0</th>\n",
       "      <td>Quincy Acy</td>\n",
       "      <td>SF</td>\n",
       "      <td>23</td>\n",
       "      <td>TOT</td>\n",
       "      <td>63</td>\n",
       "      <td>0</td>\n",
       "      <td>847</td>\n",
       "      <td>66</td>\n",
       "      <td>141</td>\n",
       "      <td>0.468</td>\n",
       "      <td>...</td>\n",
       "      <td>144</td>\n",
       "      <td>216</td>\n",
       "      <td>28</td>\n",
       "      <td>23</td>\n",
       "      <td>26</td>\n",
       "      <td>30</td>\n",
       "      <td>122</td>\n",
       "      <td>171</td>\n",
       "      <td>2013-2014</td>\n",
       "      <td>2013</td>\n",
       "    </tr>\n",
       "    <tr>\n",
       "      <th>1</th>\n",
       "      <td>Steven Adams</td>\n",
       "      <td>C</td>\n",
       "      <td>20</td>\n",
       "      <td>OKC</td>\n",
       "      <td>81</td>\n",
       "      <td>20</td>\n",
       "      <td>1197</td>\n",
       "      <td>93</td>\n",
       "      <td>185</td>\n",
       "      <td>0.503</td>\n",
       "      <td>...</td>\n",
       "      <td>190</td>\n",
       "      <td>332</td>\n",
       "      <td>43</td>\n",
       "      <td>40</td>\n",
       "      <td>57</td>\n",
       "      <td>71</td>\n",
       "      <td>203</td>\n",
       "      <td>265</td>\n",
       "      <td>2013-2014</td>\n",
       "      <td>2013</td>\n",
       "    </tr>\n",
       "    <tr>\n",
       "      <th>2</th>\n",
       "      <td>Jeff Adrien</td>\n",
       "      <td>PF</td>\n",
       "      <td>27</td>\n",
       "      <td>TOT</td>\n",
       "      <td>53</td>\n",
       "      <td>12</td>\n",
       "      <td>961</td>\n",
       "      <td>143</td>\n",
       "      <td>275</td>\n",
       "      <td>0.520</td>\n",
       "      <td>...</td>\n",
       "      <td>204</td>\n",
       "      <td>306</td>\n",
       "      <td>38</td>\n",
       "      <td>24</td>\n",
       "      <td>36</td>\n",
       "      <td>39</td>\n",
       "      <td>108</td>\n",
       "      <td>362</td>\n",
       "      <td>2013-2014</td>\n",
       "      <td>2013</td>\n",
       "    </tr>\n",
       "    <tr>\n",
       "      <th>3</th>\n",
       "      <td>Arron Afflalo</td>\n",
       "      <td>SG</td>\n",
       "      <td>28</td>\n",
       "      <td>ORL</td>\n",
       "      <td>73</td>\n",
       "      <td>73</td>\n",
       "      <td>2552</td>\n",
       "      <td>464</td>\n",
       "      <td>1011</td>\n",
       "      <td>0.459</td>\n",
       "      <td>...</td>\n",
       "      <td>230</td>\n",
       "      <td>262</td>\n",
       "      <td>248</td>\n",
       "      <td>35</td>\n",
       "      <td>3</td>\n",
       "      <td>146</td>\n",
       "      <td>136</td>\n",
       "      <td>1330</td>\n",
       "      <td>2013-2014</td>\n",
       "      <td>2013</td>\n",
       "    </tr>\n",
       "    <tr>\n",
       "      <th>4</th>\n",
       "      <td>Alexis Ajinca</td>\n",
       "      <td>C</td>\n",
       "      <td>25</td>\n",
       "      <td>NOP</td>\n",
       "      <td>56</td>\n",
       "      <td>30</td>\n",
       "      <td>951</td>\n",
       "      <td>136</td>\n",
       "      <td>249</td>\n",
       "      <td>0.546</td>\n",
       "      <td>...</td>\n",
       "      <td>183</td>\n",
       "      <td>277</td>\n",
       "      <td>40</td>\n",
       "      <td>23</td>\n",
       "      <td>46</td>\n",
       "      <td>63</td>\n",
       "      <td>187</td>\n",
       "      <td>328</td>\n",
       "      <td>2013-2014</td>\n",
       "      <td>2013</td>\n",
       "    </tr>\n",
       "    <tr>\n",
       "      <th>5</th>\n",
       "      <td>Cole Aldrich</td>\n",
       "      <td>C</td>\n",
       "      <td>25</td>\n",
       "      <td>NYK</td>\n",
       "      <td>46</td>\n",
       "      <td>2</td>\n",
       "      <td>330</td>\n",
       "      <td>33</td>\n",
       "      <td>61</td>\n",
       "      <td>0.541</td>\n",
       "      <td>...</td>\n",
       "      <td>92</td>\n",
       "      <td>129</td>\n",
       "      <td>14</td>\n",
       "      <td>8</td>\n",
       "      <td>30</td>\n",
       "      <td>18</td>\n",
       "      <td>40</td>\n",
       "      <td>92</td>\n",
       "      <td>2013-2014</td>\n",
       "      <td>2013</td>\n",
       "    </tr>\n",
       "    <tr>\n",
       "      <th>6</th>\n",
       "      <td>LaMarcus Aldridge</td>\n",
       "      <td>PF</td>\n",
       "      <td>28</td>\n",
       "      <td>POR</td>\n",
       "      <td>69</td>\n",
       "      <td>69</td>\n",
       "      <td>2498</td>\n",
       "      <td>652</td>\n",
       "      <td>1423</td>\n",
       "      <td>0.458</td>\n",
       "      <td>...</td>\n",
       "      <td>599</td>\n",
       "      <td>765</td>\n",
       "      <td>178</td>\n",
       "      <td>63</td>\n",
       "      <td>68</td>\n",
       "      <td>123</td>\n",
       "      <td>147</td>\n",
       "      <td>1603</td>\n",
       "      <td>2013-2014</td>\n",
       "      <td>2013</td>\n",
       "    </tr>\n",
       "    <tr>\n",
       "      <th>7</th>\n",
       "      <td>Lavoy Allen</td>\n",
       "      <td>PF</td>\n",
       "      <td>24</td>\n",
       "      <td>TOT</td>\n",
       "      <td>65</td>\n",
       "      <td>2</td>\n",
       "      <td>1072</td>\n",
       "      <td>134</td>\n",
       "      <td>300</td>\n",
       "      <td>0.447</td>\n",
       "      <td>...</td>\n",
       "      <td>192</td>\n",
       "      <td>311</td>\n",
       "      <td>71</td>\n",
       "      <td>24</td>\n",
       "      <td>33</td>\n",
       "      <td>44</td>\n",
       "      <td>126</td>\n",
       "      <td>303</td>\n",
       "      <td>2013-2014</td>\n",
       "      <td>2013</td>\n",
       "    </tr>\n",
       "    <tr>\n",
       "      <th>8</th>\n",
       "      <td>Ray Allen</td>\n",
       "      <td>SG</td>\n",
       "      <td>38</td>\n",
       "      <td>MIA</td>\n",
       "      <td>73</td>\n",
       "      <td>9</td>\n",
       "      <td>1936</td>\n",
       "      <td>240</td>\n",
       "      <td>543</td>\n",
       "      <td>0.442</td>\n",
       "      <td>...</td>\n",
       "      <td>182</td>\n",
       "      <td>205</td>\n",
       "      <td>143</td>\n",
       "      <td>54</td>\n",
       "      <td>8</td>\n",
       "      <td>84</td>\n",
       "      <td>115</td>\n",
       "      <td>701</td>\n",
       "      <td>2013-2014</td>\n",
       "      <td>2013</td>\n",
       "    </tr>\n",
       "    <tr>\n",
       "      <th>9</th>\n",
       "      <td>Tony Allen</td>\n",
       "      <td>SG</td>\n",
       "      <td>32</td>\n",
       "      <td>MEM</td>\n",
       "      <td>55</td>\n",
       "      <td>28</td>\n",
       "      <td>1278</td>\n",
       "      <td>204</td>\n",
       "      <td>413</td>\n",
       "      <td>0.494</td>\n",
       "      <td>...</td>\n",
       "      <td>129</td>\n",
       "      <td>208</td>\n",
       "      <td>94</td>\n",
       "      <td>90</td>\n",
       "      <td>19</td>\n",
       "      <td>90</td>\n",
       "      <td>121</td>\n",
       "      <td>495</td>\n",
       "      <td>2013-2014</td>\n",
       "      <td>2013</td>\n",
       "    </tr>\n",
       "  </tbody>\n",
       "</table>\n",
       "<p>10 rows × 31 columns</p>\n",
       "</div>"
      ],
      "text/plain": [
       "              player pos  age bref_team_id   g  gs    mp   fg   fga    fg.  \\\n",
       "0         Quincy Acy  SF   23          TOT  63   0   847   66   141  0.468   \n",
       "1       Steven Adams   C   20          OKC  81  20  1197   93   185  0.503   \n",
       "2        Jeff Adrien  PF   27          TOT  53  12   961  143   275  0.520   \n",
       "3      Arron Afflalo  SG   28          ORL  73  73  2552  464  1011  0.459   \n",
       "4      Alexis Ajinca   C   25          NOP  56  30   951  136   249  0.546   \n",
       "5       Cole Aldrich   C   25          NYK  46   2   330   33    61  0.541   \n",
       "6  LaMarcus Aldridge  PF   28          POR  69  69  2498  652  1423  0.458   \n",
       "7        Lavoy Allen  PF   24          TOT  65   2  1072  134   300  0.447   \n",
       "8          Ray Allen  SG   38          MIA  73   9  1936  240   543  0.442   \n",
       "9         Tony Allen  SG   32          MEM  55  28  1278  204   413  0.494   \n",
       "\n",
       "   ...  drb  trb  ast  stl  blk  tov   pf   pts     season  season_end  \n",
       "0  ...  144  216   28   23   26   30  122   171  2013-2014        2013  \n",
       "1  ...  190  332   43   40   57   71  203   265  2013-2014        2013  \n",
       "2  ...  204  306   38   24   36   39  108   362  2013-2014        2013  \n",
       "3  ...  230  262  248   35    3  146  136  1330  2013-2014        2013  \n",
       "4  ...  183  277   40   23   46   63  187   328  2013-2014        2013  \n",
       "5  ...   92  129   14    8   30   18   40    92  2013-2014        2013  \n",
       "6  ...  599  765  178   63   68  123  147  1603  2013-2014        2013  \n",
       "7  ...  192  311   71   24   33   44  126   303  2013-2014        2013  \n",
       "8  ...  182  205  143   54    8   84  115   701  2013-2014        2013  \n",
       "9  ...  129  208   94   90   19   90  121   495  2013-2014        2013  \n",
       "\n",
       "[10 rows x 31 columns]"
      ]
     },
     "execution_count": 12,
     "metadata": {},
     "output_type": "execute_result"
    }
   ],
   "source": [
    "with open(\"nba_2013.csv\", 'r') as csvfile:\n",
    "    nba = pd.read_csv(csvfile)\n",
    "nba.head(10)"
   ]
  },
  {
   "cell_type": "code",
   "execution_count": 13,
   "metadata": {},
   "outputs": [
    {
     "data": {
      "text/plain": [
       "Index(['player', 'pos', 'age', 'bref_team_id', 'g', 'gs', 'mp', 'fg', 'fga',\n",
       "       'fg.', 'x3p', 'x3pa', 'x3p.', 'x2p', 'x2pa', 'x2p.', 'efg.', 'ft',\n",
       "       'fta', 'ft.', 'orb', 'drb', 'trb', 'ast', 'stl', 'blk', 'tov', 'pf',\n",
       "       'pts', 'season', 'season_end'],\n",
       "      dtype='object')"
      ]
     },
     "execution_count": 13,
     "metadata": {},
     "output_type": "execute_result"
    }
   ],
   "source": [
    "nba.columns"
   ]
  },
  {
   "cell_type": "raw",
   "metadata": {},
   "source": [
    "player: name of the player\n",
    "pos: the position of the player\n",
    "g: number of games the player was in\n",
    "gs: number of games the player started pts - total points the player scored"
   ]
  },
  {
   "cell_type": "code",
   "execution_count": 14,
   "metadata": {},
   "outputs": [
    {
     "data": {
      "text/html": [
       "<div>\n",
       "<style scoped>\n",
       "    .dataframe tbody tr th:only-of-type {\n",
       "        vertical-align: middle;\n",
       "    }\n",
       "\n",
       "    .dataframe tbody tr th {\n",
       "        vertical-align: top;\n",
       "    }\n",
       "\n",
       "    .dataframe thead th {\n",
       "        text-align: right;\n",
       "    }\n",
       "</style>\n",
       "<table border=\"1\" class=\"dataframe\">\n",
       "  <thead>\n",
       "    <tr style=\"text-align: right;\">\n",
       "      <th></th>\n",
       "      <th>age</th>\n",
       "      <th>g</th>\n",
       "      <th>gs</th>\n",
       "      <th>mp</th>\n",
       "      <th>fg</th>\n",
       "      <th>fga</th>\n",
       "      <th>fg.</th>\n",
       "      <th>x3p</th>\n",
       "      <th>x3pa</th>\n",
       "      <th>x3p.</th>\n",
       "      <th>...</th>\n",
       "      <th>orb</th>\n",
       "      <th>drb</th>\n",
       "      <th>trb</th>\n",
       "      <th>ast</th>\n",
       "      <th>stl</th>\n",
       "      <th>blk</th>\n",
       "      <th>tov</th>\n",
       "      <th>pf</th>\n",
       "      <th>pts</th>\n",
       "      <th>season_end</th>\n",
       "    </tr>\n",
       "  </thead>\n",
       "  <tbody>\n",
       "    <tr>\n",
       "      <th>count</th>\n",
       "      <td>481.000000</td>\n",
       "      <td>481.000000</td>\n",
       "      <td>481.000000</td>\n",
       "      <td>481.000000</td>\n",
       "      <td>481.000000</td>\n",
       "      <td>481.000000</td>\n",
       "      <td>479.000000</td>\n",
       "      <td>481.000000</td>\n",
       "      <td>481.000000</td>\n",
       "      <td>414.000000</td>\n",
       "      <td>...</td>\n",
       "      <td>481.000000</td>\n",
       "      <td>481.000000</td>\n",
       "      <td>481.000000</td>\n",
       "      <td>481.000000</td>\n",
       "      <td>481.000000</td>\n",
       "      <td>481.000000</td>\n",
       "      <td>481.000000</td>\n",
       "      <td>481.000000</td>\n",
       "      <td>481.000000</td>\n",
       "      <td>481.0</td>\n",
       "    </tr>\n",
       "    <tr>\n",
       "      <th>mean</th>\n",
       "      <td>26.509356</td>\n",
       "      <td>53.253638</td>\n",
       "      <td>25.571726</td>\n",
       "      <td>1237.386694</td>\n",
       "      <td>192.881497</td>\n",
       "      <td>424.463617</td>\n",
       "      <td>0.436436</td>\n",
       "      <td>39.613306</td>\n",
       "      <td>110.130977</td>\n",
       "      <td>0.285111</td>\n",
       "      <td>...</td>\n",
       "      <td>55.810811</td>\n",
       "      <td>162.817048</td>\n",
       "      <td>218.627859</td>\n",
       "      <td>112.536383</td>\n",
       "      <td>39.280665</td>\n",
       "      <td>24.103950</td>\n",
       "      <td>71.862786</td>\n",
       "      <td>105.869023</td>\n",
       "      <td>516.582121</td>\n",
       "      <td>2013.0</td>\n",
       "    </tr>\n",
       "    <tr>\n",
       "      <th>std</th>\n",
       "      <td>4.198265</td>\n",
       "      <td>25.322711</td>\n",
       "      <td>29.658465</td>\n",
       "      <td>897.258840</td>\n",
       "      <td>171.832793</td>\n",
       "      <td>368.850833</td>\n",
       "      <td>0.098672</td>\n",
       "      <td>50.855639</td>\n",
       "      <td>132.751732</td>\n",
       "      <td>0.157633</td>\n",
       "      <td>...</td>\n",
       "      <td>62.101191</td>\n",
       "      <td>145.348116</td>\n",
       "      <td>200.356507</td>\n",
       "      <td>131.019557</td>\n",
       "      <td>34.783590</td>\n",
       "      <td>30.875381</td>\n",
       "      <td>62.701690</td>\n",
       "      <td>71.213627</td>\n",
       "      <td>470.422228</td>\n",
       "      <td>0.0</td>\n",
       "    </tr>\n",
       "    <tr>\n",
       "      <th>min</th>\n",
       "      <td>19.000000</td>\n",
       "      <td>1.000000</td>\n",
       "      <td>0.000000</td>\n",
       "      <td>1.000000</td>\n",
       "      <td>0.000000</td>\n",
       "      <td>0.000000</td>\n",
       "      <td>0.000000</td>\n",
       "      <td>0.000000</td>\n",
       "      <td>0.000000</td>\n",
       "      <td>0.000000</td>\n",
       "      <td>...</td>\n",
       "      <td>0.000000</td>\n",
       "      <td>0.000000</td>\n",
       "      <td>0.000000</td>\n",
       "      <td>0.000000</td>\n",
       "      <td>0.000000</td>\n",
       "      <td>0.000000</td>\n",
       "      <td>0.000000</td>\n",
       "      <td>0.000000</td>\n",
       "      <td>0.000000</td>\n",
       "      <td>2013.0</td>\n",
       "    </tr>\n",
       "    <tr>\n",
       "      <th>25%</th>\n",
       "      <td>23.000000</td>\n",
       "      <td>32.000000</td>\n",
       "      <td>0.000000</td>\n",
       "      <td>388.000000</td>\n",
       "      <td>47.000000</td>\n",
       "      <td>110.000000</td>\n",
       "      <td>0.400500</td>\n",
       "      <td>0.000000</td>\n",
       "      <td>3.000000</td>\n",
       "      <td>0.234355</td>\n",
       "      <td>...</td>\n",
       "      <td>12.000000</td>\n",
       "      <td>43.000000</td>\n",
       "      <td>55.000000</td>\n",
       "      <td>20.000000</td>\n",
       "      <td>9.000000</td>\n",
       "      <td>4.000000</td>\n",
       "      <td>21.000000</td>\n",
       "      <td>44.000000</td>\n",
       "      <td>115.000000</td>\n",
       "      <td>2013.0</td>\n",
       "    </tr>\n",
       "    <tr>\n",
       "      <th>50%</th>\n",
       "      <td>26.000000</td>\n",
       "      <td>61.000000</td>\n",
       "      <td>10.000000</td>\n",
       "      <td>1141.000000</td>\n",
       "      <td>146.000000</td>\n",
       "      <td>332.000000</td>\n",
       "      <td>0.438000</td>\n",
       "      <td>16.000000</td>\n",
       "      <td>48.000000</td>\n",
       "      <td>0.330976</td>\n",
       "      <td>...</td>\n",
       "      <td>35.000000</td>\n",
       "      <td>135.000000</td>\n",
       "      <td>168.000000</td>\n",
       "      <td>65.000000</td>\n",
       "      <td>32.000000</td>\n",
       "      <td>14.000000</td>\n",
       "      <td>58.000000</td>\n",
       "      <td>104.000000</td>\n",
       "      <td>401.000000</td>\n",
       "      <td>2013.0</td>\n",
       "    </tr>\n",
       "    <tr>\n",
       "      <th>75%</th>\n",
       "      <td>29.000000</td>\n",
       "      <td>76.000000</td>\n",
       "      <td>54.000000</td>\n",
       "      <td>2016.000000</td>\n",
       "      <td>307.000000</td>\n",
       "      <td>672.000000</td>\n",
       "      <td>0.479500</td>\n",
       "      <td>68.000000</td>\n",
       "      <td>193.000000</td>\n",
       "      <td>0.375000</td>\n",
       "      <td>...</td>\n",
       "      <td>73.000000</td>\n",
       "      <td>230.000000</td>\n",
       "      <td>310.000000</td>\n",
       "      <td>152.000000</td>\n",
       "      <td>60.000000</td>\n",
       "      <td>32.000000</td>\n",
       "      <td>108.000000</td>\n",
       "      <td>158.000000</td>\n",
       "      <td>821.000000</td>\n",
       "      <td>2013.0</td>\n",
       "    </tr>\n",
       "    <tr>\n",
       "      <th>max</th>\n",
       "      <td>39.000000</td>\n",
       "      <td>83.000000</td>\n",
       "      <td>82.000000</td>\n",
       "      <td>3122.000000</td>\n",
       "      <td>849.000000</td>\n",
       "      <td>1688.000000</td>\n",
       "      <td>1.000000</td>\n",
       "      <td>261.000000</td>\n",
       "      <td>615.000000</td>\n",
       "      <td>1.000000</td>\n",
       "      <td>...</td>\n",
       "      <td>440.000000</td>\n",
       "      <td>783.000000</td>\n",
       "      <td>1114.000000</td>\n",
       "      <td>721.000000</td>\n",
       "      <td>191.000000</td>\n",
       "      <td>219.000000</td>\n",
       "      <td>295.000000</td>\n",
       "      <td>273.000000</td>\n",
       "      <td>2593.000000</td>\n",
       "      <td>2013.0</td>\n",
       "    </tr>\n",
       "  </tbody>\n",
       "</table>\n",
       "<p>8 rows × 27 columns</p>\n",
       "</div>"
      ],
      "text/plain": [
       "              age           g          gs           mp          fg  \\\n",
       "count  481.000000  481.000000  481.000000   481.000000  481.000000   \n",
       "mean    26.509356   53.253638   25.571726  1237.386694  192.881497   \n",
       "std      4.198265   25.322711   29.658465   897.258840  171.832793   \n",
       "min     19.000000    1.000000    0.000000     1.000000    0.000000   \n",
       "25%     23.000000   32.000000    0.000000   388.000000   47.000000   \n",
       "50%     26.000000   61.000000   10.000000  1141.000000  146.000000   \n",
       "75%     29.000000   76.000000   54.000000  2016.000000  307.000000   \n",
       "max     39.000000   83.000000   82.000000  3122.000000  849.000000   \n",
       "\n",
       "               fga         fg.         x3p        x3pa        x3p.  ...  \\\n",
       "count   481.000000  479.000000  481.000000  481.000000  414.000000  ...   \n",
       "mean    424.463617    0.436436   39.613306  110.130977    0.285111  ...   \n",
       "std     368.850833    0.098672   50.855639  132.751732    0.157633  ...   \n",
       "min       0.000000    0.000000    0.000000    0.000000    0.000000  ...   \n",
       "25%     110.000000    0.400500    0.000000    3.000000    0.234355  ...   \n",
       "50%     332.000000    0.438000   16.000000   48.000000    0.330976  ...   \n",
       "75%     672.000000    0.479500   68.000000  193.000000    0.375000  ...   \n",
       "max    1688.000000    1.000000  261.000000  615.000000    1.000000  ...   \n",
       "\n",
       "              orb         drb          trb         ast         stl  \\\n",
       "count  481.000000  481.000000   481.000000  481.000000  481.000000   \n",
       "mean    55.810811  162.817048   218.627859  112.536383   39.280665   \n",
       "std     62.101191  145.348116   200.356507  131.019557   34.783590   \n",
       "min      0.000000    0.000000     0.000000    0.000000    0.000000   \n",
       "25%     12.000000   43.000000    55.000000   20.000000    9.000000   \n",
       "50%     35.000000  135.000000   168.000000   65.000000   32.000000   \n",
       "75%     73.000000  230.000000   310.000000  152.000000   60.000000   \n",
       "max    440.000000  783.000000  1114.000000  721.000000  191.000000   \n",
       "\n",
       "              blk         tov          pf          pts  season_end  \n",
       "count  481.000000  481.000000  481.000000   481.000000       481.0  \n",
       "mean    24.103950   71.862786  105.869023   516.582121      2013.0  \n",
       "std     30.875381   62.701690   71.213627   470.422228         0.0  \n",
       "min      0.000000    0.000000    0.000000     0.000000      2013.0  \n",
       "25%      4.000000   21.000000   44.000000   115.000000      2013.0  \n",
       "50%     14.000000   58.000000  104.000000   401.000000      2013.0  \n",
       "75%     32.000000  108.000000  158.000000   821.000000      2013.0  \n",
       "max    219.000000  295.000000  273.000000  2593.000000      2013.0  \n",
       "\n",
       "[8 rows x 27 columns]"
      ]
     },
     "execution_count": 14,
     "metadata": {},
     "output_type": "execute_result"
    }
   ],
   "source": [
    "nba.describe()"
   ]
  },
  {
   "cell_type": "code",
   "execution_count": 15,
   "metadata": {},
   "outputs": [
    {
     "data": {
      "image/png": "[encoded data removed]",
      "text/plain": [
       "<Figure size 720x864 with 30 Axes>"
      ]
     },
     "metadata": {
      "needs_background": "light"
     },
     "output_type": "display_data"
    }
   ],
   "source": [
    "nba.hist(figsize=(10,12))\n",
    "plt.show()"
   ]
  },
  {
   "cell_type": "code",
   "execution_count": 16,
   "metadata": {},
   "outputs": [
    {
     "name": "stdout",
     "output_type": "stream",
     "text": [
      "<class 'pandas.core.frame.DataFrame'>\n",
      "RangeIndex: 481 entries, 0 to 480\n",
      "Data columns (total 31 columns):\n",
      "player          481 non-null object\n",
      "pos             481 non-null object\n",
      "age             481 non-null int64\n",
      "bref_team_id    481 non-null object\n",
      "g               481 non-null int64\n",
      "gs              481 non-null int64\n",
      "mp              481 non-null int64\n",
      "fg              481 non-null int64\n",
      "fga             481 non-null int64\n",
      "fg.             479 non-null float64\n",
      "x3p             481 non-null int64\n",
      "x3pa            481 non-null int64\n",
      "x3p.            414 non-null float64\n",
      "x2p             481 non-null int64\n",
      "x2pa            481 non-null int64\n",
      "x2p.            478 non-null float64\n",
      "efg.            479 non-null float64\n",
      "ft              481 non-null int64\n",
      "fta             481 non-null int64\n",
      "ft.             461 non-null float64\n",
      "orb             481 non-null int64\n",
      "drb             481 non-null int64\n",
      "trb             481 non-null int64\n",
      "ast             481 non-null int64\n",
      "stl             481 non-null int64\n",
      "blk             481 non-null int64\n",
      "tov             481 non-null int64\n",
      "pf              481 non-null int64\n",
      "pts             481 non-null int64\n",
      "season          481 non-null object\n",
      "season_end      481 non-null int64\n",
      "dtypes: float64(5), int64(22), object(4)\n",
      "memory usage: 116.6+ KB\n"
     ]
    }
   ],
   "source": [
    "df =nba.copy()\n",
    "df.info()"
   ]
  },
  {
   "cell_type": "code",
   "execution_count": 17,
   "metadata": {},
   "outputs": [],
   "source": [
    "df.drop('player', inplace=True, axis=1)\n",
    "#df.drop('age', inplace=True, axis=1)\n",
    "df.drop('bref_team_id', inplace=True, axis=1)\n",
    "df.drop('season', inplace=True, axis=1)\n",
    "df.drop('season_end', inplace=True, axis=1)"
   ]
  },
  {
   "cell_type": "code",
   "execution_count": 18,
   "metadata": {},
   "outputs": [
    {
     "data": {
      "text/plain": [
       "pos      0\n",
       "age      0\n",
       "g        0\n",
       "gs       0\n",
       "mp       0\n",
       "fg       0\n",
       "fga      0\n",
       "fg.      2\n",
       "x3p      0\n",
       "x3pa     0\n",
       "x3p.    67\n",
       "x2p      0\n",
       "x2pa     0\n",
       "x2p.     3\n",
       "efg.     2\n",
       "ft       0\n",
       "fta      0\n",
       "ft.     20\n",
       "orb      0\n",
       "drb      0\n",
       "trb      0\n",
       "ast      0\n",
       "stl      0\n",
       "blk      0\n",
       "tov      0\n",
       "pf       0\n",
       "pts      0\n",
       "dtype: int64"
      ]
     },
     "execution_count": 18,
     "metadata": {},
     "output_type": "execute_result"
    }
   ],
   "source": [
    "df.isnull().sum()"
   ]
  },
  {
   "cell_type": "code",
   "execution_count": null,
   "metadata": {},
   "outputs": [],
   "source": [
    "# So we can see that \"fg.\", \"x2p.\", \"efg.\" have a small number of null values\n",
    "# We can drop them"
   ]
  },
  {
   "cell_type": "code",
   "execution_count": 20,
   "metadata": {},
   "outputs": [],
   "source": [
    "df.dropna(subset=['fg.'], inplace=True)\n",
    "df.dropna(subset=['x2p.'], inplace=True)\n",
    "df.dropna(subset=['efg.'], inplace=True)"
   ]
  },
  {
   "cell_type": "code",
   "execution_count": 23,
   "metadata": {},
   "outputs": [
    {
     "data": {
      "text/plain": [
       "pos      0\n",
       "age      0\n",
       "g        0\n",
       "gs       0\n",
       "mp       0\n",
       "fg       0\n",
       "fga      0\n",
       "fg.      0\n",
       "x3p      0\n",
       "x3pa     0\n",
       "x3p.    65\n",
       "x2p      0\n",
       "x2pa     0\n",
       "x2p.     0\n",
       "efg.     0\n",
       "ft       0\n",
       "fta      0\n",
       "ft.     18\n",
       "orb      0\n",
       "drb      0\n",
       "trb      0\n",
       "ast      0\n",
       "stl      0\n",
       "blk      0\n",
       "tov      0\n",
       "pf       0\n",
       "pts      0\n",
       "dtype: int64"
      ]
     },
     "execution_count": 23,
     "metadata": {},
     "output_type": "execute_result"
    }
   ],
   "source": [
    "df.isnull().sum()"
   ]
  },
  {
   "cell_type": "code",
   "execution_count": 24,
   "metadata": {},
   "outputs": [],
   "source": [
    "# Observation: x3p. and ft. contains significant no. of null values so we would not take those features in model, almost we taking this df as clear"
   ]
  },
  {
   "cell_type": "code",
   "execution_count": 25,
   "metadata": {},
   "outputs": [],
   "source": [
    "df.drop('x3p.', axis=1, inplace=True)\n",
    "df.drop('ft.', axis=1, inplace=True)"
   ]
  },
  {
   "cell_type": "code",
   "execution_count": 26,
   "metadata": {},
   "outputs": [
    {
     "data": {
      "text/plain": [
       "array(['SF', 'C', 'PF', 'SG', 'PG', 'G', 'F'], dtype=object)"
      ]
     },
     "execution_count": 26,
     "metadata": {},
     "output_type": "execute_result"
    }
   ],
   "source": [
    "df['pos'].unique()"
   ]
  },
  {
   "cell_type": "code",
   "execution_count": 27,
   "metadata": {},
   "outputs": [
    {
     "data": {
      "text/plain": [
       "Index(['pos', 'age', 'g', 'gs', 'mp', 'fg', 'fga', 'fg.', 'x3p', 'x3pa', 'x2p',\n",
       "       'x2pa', 'x2p.', 'efg.', 'ft', 'fta', 'orb', 'drb', 'trb', 'ast', 'stl',\n",
       "       'blk', 'tov', 'pf', 'pts'],\n",
       "      dtype='object')"
      ]
     },
     "execution_count": 27,
     "metadata": {},
     "output_type": "execute_result"
    }
   ],
   "source": [
    "df.columns"
   ]
  },
  {
   "cell_type": "code",
   "execution_count": 28,
   "metadata": {},
   "outputs": [],
   "source": [
    "X=df[df.columns[:-1]] # features\n",
    "Y=df[df.columns[-1]] #target variable"
   ]
  },
  {
   "cell_type": "code",
   "execution_count": 29,
   "metadata": {},
   "outputs": [
    {
     "data": {
      "text/plain": [
       "((478, 24), (478,))"
      ]
     },
     "execution_count": 29,
     "metadata": {},
     "output_type": "execute_result"
    }
   ],
   "source": [
    "X.shape, Y.shape"
   ]
  },
  {
   "cell_type": "markdown",
   "metadata": {},
   "source": [
    "### Creating pos dummies¶"
   ]
  },
  {
   "cell_type": "markdown",
   "metadata": {},
   "source": [
    "##### this is the only object column now"
   ]
  },
  {
   "cell_type": "code",
   "execution_count": 31,
   "metadata": {},
   "outputs": [],
   "source": [
    "for c in X.columns:\n",
    "    if X[c].dtypes == 'object':\n",
    "        X= pd.get_dummies(X, columns=[c])"
   ]
  },
  {
   "cell_type": "code",
   "execution_count": 32,
   "metadata": {},
   "outputs": [
    {
     "data": {
      "text/plain": [
       "{'pos_C', 'pos_F', 'pos_G', 'pos_PF', 'pos_PG', 'pos_SF', 'pos_SG'}"
      ]
     },
     "execution_count": 32,
     "metadata": {},
     "output_type": "execute_result"
    }
   ],
   "source": [
    "#confirming extra columns \n",
    "set(X.columns)-set(df.columns)"
   ]
  },
  {
   "cell_type": "code",
   "execution_count": 33,
   "metadata": {},
   "outputs": [
    {
     "data": {
      "text/plain": [
       "Index(['age', 'g', 'gs', 'mp', 'fg', 'fga', 'fg.', 'x3p', 'x3pa', 'x2p',\n",
       "       'x2pa', 'x2p.', 'efg.', 'ft', 'fta', 'orb', 'drb', 'trb', 'ast', 'stl',\n",
       "       'blk', 'tov', 'pf', 'pos_C', 'pos_F', 'pos_G', 'pos_PF', 'pos_PG',\n",
       "       'pos_SF', 'pos_SG'],\n",
       "      dtype='object')"
      ]
     },
     "execution_count": 33,
     "metadata": {},
     "output_type": "execute_result"
    }
   ],
   "source": [
    "X.columns"
   ]
  },
  {
   "cell_type": "code",
   "execution_count": 46,
   "metadata": {},
   "outputs": [],
   "source": [
    "#Splitting the training set and test set\n",
    "X_train, X_test, y_train, y_test = train_test_split(X,Y, test_size = 0.2, random_state = 0)"
   ]
  },
  {
   "cell_type": "code",
   "execution_count": 47,
   "metadata": {},
   "outputs": [
    {
     "data": {
      "text/plain": [
       "((382, 30), (96, 30), (382,), (96,))"
      ]
     },
     "execution_count": 47,
     "metadata": {},
     "output_type": "execute_result"
    }
   ],
   "source": [
    "X_train.shape, X_test.shape, y_train.shape, y_test.shape"
   ]
  },
  {
   "cell_type": "code",
   "execution_count": 48,
   "metadata": {},
   "outputs": [
    {
     "data": {
      "text/html": [
       "<div>\n",
       "<style scoped>\n",
       "    .dataframe tbody tr th:only-of-type {\n",
       "        vertical-align: middle;\n",
       "    }\n",
       "\n",
       "    .dataframe tbody tr th {\n",
       "        vertical-align: top;\n",
       "    }\n",
       "\n",
       "    .dataframe thead th {\n",
       "        text-align: right;\n",
       "    }\n",
       "</style>\n",
       "<table border=\"1\" class=\"dataframe\">\n",
       "  <thead>\n",
       "    <tr style=\"text-align: right;\">\n",
       "      <th></th>\n",
       "      <th>age</th>\n",
       "      <th>g</th>\n",
       "      <th>gs</th>\n",
       "      <th>mp</th>\n",
       "      <th>fg</th>\n",
       "      <th>fga</th>\n",
       "      <th>fg.</th>\n",
       "      <th>x3p</th>\n",
       "      <th>x3pa</th>\n",
       "      <th>x2p</th>\n",
       "      <th>...</th>\n",
       "      <th>blk</th>\n",
       "      <th>tov</th>\n",
       "      <th>pf</th>\n",
       "      <th>pos_C</th>\n",
       "      <th>pos_F</th>\n",
       "      <th>pos_G</th>\n",
       "      <th>pos_PF</th>\n",
       "      <th>pos_PG</th>\n",
       "      <th>pos_SF</th>\n",
       "      <th>pos_SG</th>\n",
       "    </tr>\n",
       "  </thead>\n",
       "  <tbody>\n",
       "    <tr>\n",
       "      <th>208</th>\n",
       "      <td>23</td>\n",
       "      <td>34</td>\n",
       "      <td>34</td>\n",
       "      <td>1143</td>\n",
       "      <td>203</td>\n",
       "      <td>454</td>\n",
       "      <td>0.447</td>\n",
       "      <td>30</td>\n",
       "      <td>77</td>\n",
       "      <td>173</td>\n",
       "      <td>...</td>\n",
       "      <td>12</td>\n",
       "      <td>105</td>\n",
       "      <td>92</td>\n",
       "      <td>0</td>\n",
       "      <td>0</td>\n",
       "      <td>0</td>\n",
       "      <td>0</td>\n",
       "      <td>1</td>\n",
       "      <td>0</td>\n",
       "      <td>0</td>\n",
       "    </tr>\n",
       "    <tr>\n",
       "      <th>265</th>\n",
       "      <td>30</td>\n",
       "      <td>69</td>\n",
       "      <td>67</td>\n",
       "      <td>2288</td>\n",
       "      <td>513</td>\n",
       "      <td>981</td>\n",
       "      <td>0.523</td>\n",
       "      <td>0</td>\n",
       "      <td>1</td>\n",
       "      <td>513</td>\n",
       "      <td>...</td>\n",
       "      <td>26</td>\n",
       "      <td>152</td>\n",
       "      <td>206</td>\n",
       "      <td>0</td>\n",
       "      <td>0</td>\n",
       "      <td>0</td>\n",
       "      <td>1</td>\n",
       "      <td>0</td>\n",
       "      <td>0</td>\n",
       "      <td>0</td>\n",
       "    </tr>\n",
       "    <tr>\n",
       "      <th>200</th>\n",
       "      <td>23</td>\n",
       "      <td>70</td>\n",
       "      <td>23</td>\n",
       "      <td>1856</td>\n",
       "      <td>344</td>\n",
       "      <td>639</td>\n",
       "      <td>0.538</td>\n",
       "      <td>0</td>\n",
       "      <td>1</td>\n",
       "      <td>344</td>\n",
       "      <td>...</td>\n",
       "      <td>116</td>\n",
       "      <td>114</td>\n",
       "      <td>185</td>\n",
       "      <td>0</td>\n",
       "      <td>0</td>\n",
       "      <td>0</td>\n",
       "      <td>1</td>\n",
       "      <td>0</td>\n",
       "      <td>0</td>\n",
       "      <td>0</td>\n",
       "    </tr>\n",
       "    <tr>\n",
       "      <th>278</th>\n",
       "      <td>27</td>\n",
       "      <td>79</td>\n",
       "      <td>79</td>\n",
       "      <td>2862</td>\n",
       "      <td>457</td>\n",
       "      <td>1080</td>\n",
       "      <td>0.423</td>\n",
       "      <td>190</td>\n",
       "      <td>500</td>\n",
       "      <td>267</td>\n",
       "      <td>...</td>\n",
       "      <td>15</td>\n",
       "      <td>194</td>\n",
       "      <td>267</td>\n",
       "      <td>0</td>\n",
       "      <td>0</td>\n",
       "      <td>0</td>\n",
       "      <td>0</td>\n",
       "      <td>1</td>\n",
       "      <td>0</td>\n",
       "      <td>0</td>\n",
       "    </tr>\n",
       "    <tr>\n",
       "      <th>379</th>\n",
       "      <td>24</td>\n",
       "      <td>65</td>\n",
       "      <td>13</td>\n",
       "      <td>1089</td>\n",
       "      <td>143</td>\n",
       "      <td>300</td>\n",
       "      <td>0.477</td>\n",
       "      <td>0</td>\n",
       "      <td>0</td>\n",
       "      <td>143</td>\n",
       "      <td>...</td>\n",
       "      <td>47</td>\n",
       "      <td>44</td>\n",
       "      <td>134</td>\n",
       "      <td>1</td>\n",
       "      <td>0</td>\n",
       "      <td>0</td>\n",
       "      <td>0</td>\n",
       "      <td>0</td>\n",
       "      <td>0</td>\n",
       "      <td>0</td>\n",
       "    </tr>\n",
       "  </tbody>\n",
       "</table>\n",
       "<p>5 rows × 30 columns</p>\n",
       "</div>"
      ],
      "text/plain": [
       "     age   g  gs    mp   fg   fga    fg.  x3p  x3pa  x2p  ...  blk  tov   pf  \\\n",
       "208   23  34  34  1143  203   454  0.447   30    77  173  ...   12  105   92   \n",
       "265   30  69  67  2288  513   981  0.523    0     1  513  ...   26  152  206   \n",
       "200   23  70  23  1856  344   639  0.538    0     1  344  ...  116  114  185   \n",
       "278   27  79  79  2862  457  1080  0.423  190   500  267  ...   15  194  267   \n",
       "379   24  65  13  1089  143   300  0.477    0     0  143  ...   47   44  134   \n",
       "\n",
       "     pos_C  pos_F  pos_G  pos_PF  pos_PG  pos_SF  pos_SG  \n",
       "208      0      0      0       0       1       0       0  \n",
       "265      0      0      0       1       0       0       0  \n",
       "200      0      0      0       1       0       0       0  \n",
       "278      0      0      0       0       1       0       0  \n",
       "379      1      0      0       0       0       0       0  \n",
       "\n",
       "[5 rows x 30 columns]"
      ]
     },
     "execution_count": 48,
     "metadata": {},
     "output_type": "execute_result"
    }
   ],
   "source": [
    "X_train.head()"
   ]
  },
  {
   "cell_type": "code",
   "execution_count": 49,
   "metadata": {},
   "outputs": [],
   "source": [
    "# scaling values\n",
    "sc = StandardScaler()\n",
    "X_train = sc.fit_transform(X_train)\n",
    "X_test = sc.fit_transform(X_test)"
   ]
  },
  {
   "cell_type": "code",
   "execution_count": 50,
   "metadata": {},
   "outputs": [
    {
     "data": {
      "text/plain": [
       "KNeighborsRegressor(algorithm='auto', leaf_size=30, metric='minkowski',\n",
       "                    metric_params=None, n_jobs=None, n_neighbors=5, p=2,\n",
       "                    weights='uniform')"
      ]
     },
     "execution_count": 50,
     "metadata": {},
     "output_type": "execute_result"
    }
   ],
   "source": [
    "# Applying KNN Algorithm to the X_train\n",
    "from sklearn.neighbors import KNeighborsRegressor\n",
    "classifier = KNeighborsRegressor(n_neighbors=5, metric= \"minkowski\", p =2)\n",
    "classifier.fit(X_train, y_train)"
   ]
  },
  {
   "cell_type": "code",
   "execution_count": 51,
   "metadata": {},
   "outputs": [
    {
     "data": {
      "text/plain": [
       "Text(0.5, 1.0, 'Actual Pts vs Predicted Pts')"
      ]
     },
     "execution_count": 51,
     "metadata": {},
     "output_type": "execute_result"
    },
    {
     "data": {
      "image/png": "[encoded data removed]",
      "text/plain": [
       "<Figure size 432x288 with 1 Axes>"
      ]
     },
     "metadata": {
      "needs_background": "light"
     },
     "output_type": "display_data"
    }
   ],
   "source": [
    "#Predicting the test data\n",
    "y_pred = classifier.predict(X_test)\n",
    "\n",
    "#Plotting the scatter plots\n",
    "plt.scatter(y_test, y_pred)\n",
    "plt.xlabel(\"Actual Pts\")\n",
    "plt.ylabel(\"Predicted pts\")\n",
    "plt.title(\"Actual Pts vs Predicted Pts\")"
   ]
  },
  {
   "cell_type": "code",
   "execution_count": 52,
   "metadata": {},
   "outputs": [
    {
     "name": "stdout",
     "output_type": "stream",
     "text": [
      "15356.644166666667\n",
      "123.9219277071926\n"
     ]
    }
   ],
   "source": [
    "# error calculation\n",
    "import math\n",
    "print(mean_squared_error(y_test, y_pred))\n",
    "\n",
    "print(math.sqrt(mean_squared_error(y_test, y_pred)))"
   ]
  },
  {
   "cell_type": "code",
   "execution_count": 53,
   "metadata": {},
   "outputs": [
    {
     "name": "stdout",
     "output_type": "stream",
     "text": [
      "Value RMS for k =  0 is : 132.00059185473376\n",
      "Value RMS for k =  1 is : 118.7457565031273\n",
      "Value RMS for k =  2 is : 127.32134814886481\n",
      "Value RMS for k =  3 is : 122.57805761364199\n",
      "Value RMS for k =  4 is : 123.9219277071926\n",
      "Value RMS for k =  5 is : 118.76593338525308\n",
      "Value RMS for k =  6 is : 121.04430269238497\n",
      "Value RMS for k =  7 is : 118.84720870482018\n",
      "Value RMS for k =  8 is : 123.1579996407639\n",
      "Value RMS for k =  9 is : 126.04244242185514\n",
      "Value RMS for k =  10 is : 127.11424927657012\n",
      "Value RMS for k =  11 is : 126.08196755842121\n",
      "Value RMS for k =  12 is : 127.32289130938187\n",
      "Value RMS for k =  13 is : 127.23606029892296\n",
      "Value RMS for k =  14 is : 130.30367824744937\n",
      "Value RMS for k =  15 is : 133.32102400862487\n",
      "Value RMS for k =  16 is : 136.76544868552233\n",
      "Value RMS for k =  17 is : 136.8939686576271\n",
      "Value RMS for k =  18 is : 139.01715004106566\n",
      "Value RMS for k =  19 is : 141.8492765777288\n"
     ]
    }
   ],
   "source": [
    "rmse = []\n",
    "for K in range(20):\n",
    "    K_value = K+1\n",
    "    neigh = KNeighborsRegressor(n_neighbors = K_value, metric= \"minkowski\", p =2)\n",
    "    neigh.fit(X_train, y_train) \n",
    "    y_pred = neigh.predict(X_test)\n",
    "    rmse.append(math.sqrt(mean_squared_error(y_test, y_pred)))\n",
    "    print('Value RMS for k = ' , K , 'is :', math.sqrt(mean_squared_error(y_test, y_pred)))"
   ]
  },
  {
   "cell_type": "code",
   "execution_count": 54,
   "metadata": {},
   "outputs": [
    {
     "data": {
      "text/plain": [
       "[<matplotlib.lines.Line2D at 0x1a24c07110>]"
      ]
     },
     "execution_count": 54,
     "metadata": {},
     "output_type": "execute_result"
    },
    {
     "data": {
      "image/png": "[encoded data removed]",
      "text/plain": [
       "<Figure size 432x288 with 1 Axes>"
      ]
     },
     "metadata": {
      "needs_background": "light"
     },
     "output_type": "display_data"
    }
   ],
   "source": [
    "# ploting rmse\n",
    "plt.plot(range(20), rmse)"
   ]
  },
  {
   "cell_type": "code",
   "execution_count": 55,
   "metadata": {},
   "outputs": [
    {
     "data": {
      "text/plain": [
       "{'n_neighbors': 4}"
      ]
     },
     "execution_count": 55,
     "metadata": {},
     "output_type": "execute_result"
    }
   ],
   "source": [
    "from sklearn.model_selection import GridSearchCV\n",
    "params = {'n_neighbors':[2,3,4,5,6,7,8,9]}\n",
    "\n",
    "knn = KNeighborsRegressor(metric= \"minkowski\", p =2)\n",
    "\n",
    "model = GridSearchCV(knn, params, cv=5)\n",
    "model.fit(X_train,y_train)\n",
    "model.best_params_"
   ]
  }
 ],
 "metadata": {
  "kernelspec": {
   "display_name": "Python 3",
   "language": "python",
   "name": "python3"
  },
  "language_info": {
   "codemirror_mode": {
    "name": "ipython",
    "version": 3
   },
   "file_extension": ".py",
   "mimetype": "text/x-python",
   "name": "python",
   "nbconvert_exporter": "python",
   "pygments_lexer": "ipython3",
   "version": "3.7.5"
  }
 },
 "nbformat": 4,
 "nbformat_minor": 2
}
